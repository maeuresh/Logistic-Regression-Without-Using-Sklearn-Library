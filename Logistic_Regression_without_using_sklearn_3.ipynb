{
 "cells": [
  {
   "cell_type": "code",
   "execution_count": 1,
   "id": "c7567ade",
   "metadata": {},
   "outputs": [],
   "source": [
    "import numpy as np\n",
    "import pandas as pd"
   ]
  },
  {
   "cell_type": "code",
   "execution_count": 14,
   "id": "485cae1c",
   "metadata": {},
   "outputs": [],
   "source": [
    "def sigmoid(x):\n",
    "    # to limit the values between -500 and 500.\n",
    "    x = np.clip(x, -500, 500) #remove while using custome dataset\n",
    "    return 1/(1+np.exp(-x))\n",
    "\n",
    "class LogisticRegression():\n",
    "    def __init__(self, lr=0.001, n_iters=1000):\n",
    "        self.lr = lr\n",
    "        self.n_iters = n_iters\n",
    "        self.weights = None\n",
    "        self.bias = None\n",
    "        self.losses = []\n",
    "    \n",
    "    def fit(self, X, y): \n",
    "        n_samples, n_features = X.shape\n",
    "        self.weights = np.zeros(n_features) #initial weight is 0\n",
    "        self.bias = 0 #initial bias is 0\n",
    "        self.losses = []\n",
    "        \n",
    "        for _ in range(self.n_iters):\n",
    "            linear_pred = np.dot(X, self.weights) + self.bias #wx + b\n",
    "            predictions = sigmoid(linear_pred)\n",
    "            \n",
    "            #Calculate the gradient\n",
    "            dw = (1/n_samples) * np.dot(X.T,(predictions - y))\n",
    "            db = (1/n_samples) * np.sum(predictions - y)\n",
    "            \n",
    "            #updates the weight and biases\n",
    "            self.weights = self.weights - self.lr*dw\n",
    "            self.bias = self.bias - self.lr*db\n",
    "            \n",
    "            # Calculate and store the loss\n",
    "            predictions = np.clip(predictions, 1e-10, 1 - 1e-10)\n",
    "\n",
    "            loss = (-1/n_samples) * np.sum(y * np.log(predictions) + (1 - y) * np.log(1 - predictions))\n",
    "            self.losses.append(loss)\n",
    "            #The model is trained now\n",
    "            \n",
    "#           print(\"\\nLosses during training:\", self.losses)\n",
    "\n",
    "            \n",
    "    #Make predictions\n",
    "    def predict(self, X):\n",
    "        linear_pred = np.dot(X, self.weights) + self.bias #wx + b\n",
    "        y_pred = sigmoid(linear_pred)\n",
    "        \n",
    "        #Choose the label based on the probability\n",
    "        class_pred = [0 if y<=0.5 else 1 for y in y_pred]\n",
    "        return class_pred"
   ]
  },
  {
   "cell_type": "code",
   "execution_count": 15,
   "id": "1257cbbb",
   "metadata": {},
   "outputs": [
    {
     "name": "stdout",
     "output_type": "stream",
     "text": [
      "0.7915\n"
     ]
    }
   ],
   "source": [
    "from sklearn import datasets\n",
    "from sklearn.model_selection import train_test_split\n",
    "\n",
    "#data = datasets.load_breast_cancer()\n",
    "\n",
    "data = pd.read_csv(\"E:\\\\Mayuresh\\\\EY_Project\\Dataset\\\\Bank Customer Churn Prediction.csv\")\n",
    "data = data.drop('customer_id', axis = 1)\n",
    "data = data.drop('gender', axis=1)\n",
    "data = data.drop('country', axis=1)\n",
    "\n",
    "#X, y = data.data, data.target\n",
    "\n",
    "#Dropping Churn from data and assigning to y variable\n",
    "X = data.drop('churn', axis=1)\n",
    "\n",
    "#Assigning Churn to y\n",
    "y = data['churn']\n",
    "\n",
    "#data['country'] = data['country'].apply(lambda x : 0 if x == 'France' else 1 if x == 'Germany' else 2)\n",
    "#data['gender'] = data['gender'].apply(lambda x : 0 if x == 'Male' else 1)\n",
    "\n",
    "# Use get_dummies to perform one-hot encoding\n",
    "#X = pd.get_dummies(data, columns=['country','gender'], drop_first=True)\n",
    "#X = X.astype(int)\n",
    "#X\n",
    "\n",
    "\n",
    "#Split the data\n",
    "X_train, X_test, y_train, y_test = train_test_split(X,y,test_size = 0.2) #Randomstate not set for checking \n",
    "\n",
    "\n",
    "clf = LogisticRegression()\n",
    "clf.fit(X_train, y_train)\n",
    "y_pred = clf.predict(X_test)\n",
    "\n",
    "#Calculate accuracy\n",
    "def accuracy(y_pred, y_test):\n",
    "    return np.sum(y_pred==y_test)/len(y_test)\n",
    "\n",
    "acc = accuracy(y_pred, y_test)\n",
    "print(acc)"
   ]
  },
  {
   "cell_type": "markdown",
   "id": "67a82aeb",
   "metadata": {},
   "source": [
    "#### Accuracy is low because I rmeoved the \"gender\" and \"country\" column. I did try One-hot encoding anf Get_dummies but still the results weren't favourable."
   ]
  },
  {
   "cell_type": "code",
   "execution_count": null,
   "id": "623e4633",
   "metadata": {},
   "outputs": [],
   "source": []
  }
 ],
 "metadata": {
  "kernelspec": {
   "display_name": "Python 3 (ipykernel)",
   "language": "python",
   "name": "python3"
  },
  "language_info": {
   "codemirror_mode": {
    "name": "ipython",
    "version": 3
   },
   "file_extension": ".py",
   "mimetype": "text/x-python",
   "name": "python",
   "nbconvert_exporter": "python",
   "pygments_lexer": "ipython3",
   "version": "3.11.5"
  }
 },
 "nbformat": 4,
 "nbformat_minor": 5
}
